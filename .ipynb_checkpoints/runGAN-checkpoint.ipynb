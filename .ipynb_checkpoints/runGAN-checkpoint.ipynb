{
 "cells": [
  {
   "cell_type": "code",
   "execution_count": null,
   "metadata": {},
   "outputs": [],
   "source": [
    "from src.utils import VideoInterpTripletsDataset\n",
    "from src.train import trainGAN\n",
    "from src.eval import evalGAN\n",
    "from torch.utils.data import DataLoader\n",
    "from importlib import reload\n",
    "import time"
   ]
  },
  {
   "cell_type": "code",
   "execution_count": null,
   "metadata": {},
   "outputs": [],
   "source": [
    "overfitdataset = VideoInterpTripletsDataset('datasets/small/',read_frames=False)\n",
    "dataloaderOverfit = DataLoader(overfitdataset,batch_size=32,shuffle=True,num_workers=4)\n",
    "print(overfitdataset[0]['left'].shape)"
   ]
  },
  {
   "cell_type": "code",
   "execution_count": 2,
   "metadata": {},
   "outputs": [
    {
     "name": "stdout",
     "output_type": "stream",
     "text": [
      "Filenames\n",
      "['Copy of La Vie en Rose Public Cover_512', 'Copy of DNA Cover Final_512', 'Copy of DDD Cover Final_512', \"Copy of NCT Baby Don't Stop public cover_512\", 'Copy of Bad Boy Cover Final_512']\n",
      "Frame read, (h,w) is (288,512)\n"
     ]
    }
   ],
   "source": [
    "dataset = VideoInterpTripletsDataset('datasets/Full_Dataset_512_small_frames/train_frames', read_frames=True)\n",
    "dataloader = DataLoader(dataset, batch_size=32, shuffle=True, num_workers=4)"
   ]
  },
  {
   "cell_type": "code",
   "execution_count": null,
   "metadata": {},
   "outputs": [],
   "source": [
    "print('hi')"
   ]
  },
  {
   "cell_type": "code",
   "execution_count": null,
   "metadata": {},
   "outputs": [],
   "source": [
    "trainGAN(20, dataloader,savePath=\"./experiments/20_epochs_0.1_lambda\",Supervised=True)\n",
    "# trainGAN(20, dataloaderOverfit,savePath=\"./experiments/Overfit_20_epochs_0.1_lambda\",Supervised=True)"
   ]
  },
  {
   "cell_type": "code",
   "execution_count": null,
   "metadata": {},
   "outputs": [],
   "source": [
    "valset = VideoInterpTripletsDataset('datasets/Full_Dataset_512_small_frames/val_frames',read_frames=True)\n",
    "valloader = DataLoader(valset,batch_size=32,shuffle=True,num_workers=4)"
   ]
  },
  {
   "cell_type": "code",
   "execution_count": null,
   "metadata": {},
   "outputs": [],
   "source": [
    "evalGAN(valloader,\"./models/512_Small_Test_SGAN\",sampleImagesName=\"512_Small_SGAN_val\")"
   ]
  },
  {
   "cell_type": "code",
   "execution_count": null,
   "metadata": {},
   "outputs": [],
   "source": [
    "testset = VideoInterpTripletsDataset('datasets/Full_Dataset_512_small_frames/test_frames',read_frames=True)\n",
    "testloader  = DataLoader(testset,batch_size=32,shuffle=True,num_workers=4)"
   ]
  },
  {
   "cell_type": "code",
   "execution_count": null,
   "metadata": {},
   "outputs": [],
   "source": [
    "evalGAN(testloader,\"./models/512_Small_Test_SGAN\",sampleImagesName=\"512_Small_SGAN_test\")"
   ]
  }
 ],
 "metadata": {
  "kernelspec": {
   "display_name": "Python 3",
   "language": "python",
   "name": "python3"
  },
  "language_info": {
   "codemirror_mode": {
    "name": "ipython",
    "version": 3
   },
   "file_extension": ".py",
   "mimetype": "text/x-python",
   "name": "python",
   "nbconvert_exporter": "python",
   "pygments_lexer": "ipython3",
   "version": "3.6.6"
  }
 },
 "nbformat": 4,
 "nbformat_minor": 2
}
