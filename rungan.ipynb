{
 "cells": [
  {
   "cell_type": "code",
   "execution_count": 1,
   "metadata": {},
   "outputs": [],
   "source": [
    "%load_ext autoreload\n",
    "from src.utils import VideoInterpTripletsDataset\n",
    "from src.train import trainGAN\n",
    "from src.eval import evalGAN\n",
    "from torch.utils.data import DataLoader\n",
    "import torch"
   ]
  },
  {
   "cell_type": "code",
   "execution_count": 10,
   "metadata": {},
   "outputs": [],
   "source": [
    "%autoreload 2"
   ]
  },
  {
   "cell_type": "code",
   "execution_count": 3,
   "metadata": {},
   "outputs": [
    {
     "name": "stdout",
     "output_type": "stream",
     "text": [
      "torch.Size([3, 288, 512])\n"
     ]
    }
   ],
   "source": [
    "overfitdataset = VideoInterpTripletsDataset('datasets/vids_512/test',read_frames=False)\n",
    "dataloaderOverfit = DataLoader(overfitdataset,batch_size=32,shuffle=True,num_workers=4)\n",
    "print(overfitdataset[0]['left'].shape)"
   ]
  },
  {
   "cell_type": "code",
   "execution_count": 2,
   "metadata": {},
   "outputs": [
    {
     "name": "stdout",
     "output_type": "stream",
     "text": [
      "Filenames\n",
      "['dna', 'ddd', 'baby-dont-stop', 'bad-boy', 'la-vie-en-rose']\n",
      "Frame read, (h,w) is (288,512)\n"
     ]
    }
   ],
   "source": [
    "dataset = VideoInterpTripletsDataset('datasets/frames_512/train', read_frames=True)\n",
    "dataloader = DataLoader(dataset, batch_size=32, shuffle=True, num_workers=4)"
   ]
  },
  {
   "cell_type": "code",
   "execution_count": null,
   "metadata": {},
   "outputs": [
    {
     "name": "stdout",
     "output_type": "stream",
     "text": [
      "Video (h,w): (288, 512)\n",
      "Created models\n",
      "GPU: Tesla V100-SXM2-16GB\n",
      "Initialized weights\n",
      "Set up models\n",
      "Index for sample: 183\n"
     ]
    },
    {
     "data": {
      "application/vnd.jupyter.widget-view+json": {
       "model_id": "48bd3e463ac448a9b029c6331647abe0",
       "version_major": 2,
       "version_minor": 0
      },
      "text/plain": [
       "HBox(children=(IntProgress(value=0, max=987), HTML(value='')))"
      ]
     },
     "metadata": {},
     "output_type": "display_data"
    }
   ],
   "source": [
    "generator, discriminator = trainGAN(20, dataloader, save_path='./experiments/tmp', save_every=5)\n",
    "# trainGAN(20, dataloader,savePath=\"./experiments/20_epochs_0.1_lambda\",Supervised=True)\n",
    "# trainGAN(20, dataloaderOverfit,savePath=\"./experiments/Overfit_20_epochs_0.1_lambda\",Supervised=True)"
   ]
  },
  {
   "cell_type": "code",
   "execution_count": null,
   "metadata": {},
   "outputs": [],
   "source": [
    "valset = VideoInterpTripletsDataset('datasets/frames_512/val',read_frames=True)\n",
    "valloader = DataLoader(valset,batch_size=32,shuffle=True,num_workers=4)"
   ]
  },
  {
   "cell_type": "code",
   "execution_count": null,
   "metadata": {},
   "outputs": [],
   "source": [
    "evalGAN(valloader,\"./models/512_Small_Test_SGAN\",sampleImagesName=\"512_Small_SGAN_val\")"
   ]
  },
  {
   "cell_type": "code",
   "execution_count": null,
   "metadata": {},
   "outputs": [],
   "source": [
    "testset = VideoInterpTripletsDataset('datasets/frames_512/test',read_frames=True)\n",
    "testloader  = DataLoader(testset,batch_size=32,shuffle=True,num_workers=4)"
   ]
  },
  {
   "cell_type": "code",
   "execution_count": null,
   "metadata": {},
   "outputs": [],
   "source": [
    "evalGAN(testloader,\"./models/512_Small_Test_SGAN\",sampleImagesName=\"512_Small_SGAN_test\")"
   ]
  }
 ],
 "metadata": {
  "kernelspec": {
   "display_name": "Python 3",
   "language": "python",
   "name": "python3"
  },
  "language_info": {
   "codemirror_mode": {
    "name": "ipython",
    "version": 3
   },
   "file_extension": ".py",
   "mimetype": "text/x-python",
   "name": "python",
   "nbconvert_exporter": "python",
   "pygments_lexer": "ipython3",
   "version": "3.7.0"
  }
 },
 "nbformat": 4,
 "nbformat_minor": 2
}
